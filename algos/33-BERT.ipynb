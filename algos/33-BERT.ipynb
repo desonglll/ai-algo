{
 "cells": [
  {
   "cell_type": "code",
   "execution_count": null,
   "outputs": [],
   "source": [
    "import numpy as np\n",
    "import torch\n",
    "from transformers import BertTokenizer, BertForSequenceClassification, Trainer, TrainingArguments\n",
    "from datasets import load_dataset\n",
    "\n",
    "# 加载数据集\n",
    "# 使用IMDB数据集作为示例\n",
    "dataset = load_dataset(\"imdb\")\n",
    "\n",
    "# 加载BERT tokenizer\n",
    "tokenizer = BertTokenizer.from_pretrained(\"bert-base-uncased\")\n",
    "\n",
    "\n",
    "# 对数据进行编码\n",
    "def encode_dataset(datasets):\n",
    "    return datasets.map(lambda x: tokenizer(x['text'], padding='max_length', truncation=True, max_length=512),\n",
    "                        batched=True)\n",
    "\n",
    "\n",
    "# 编码训练和测试集\n",
    "encoded_dataset = encode_dataset(dataset)\n",
    "\n",
    "# 选择训练和验证集\n",
    "train_dataset = encoded_dataset['train'].shuffle(seed=42).select([i for i in list(range(1000))])  # 限制为1000个样本\n",
    "test_dataset = encoded_dataset['test'].shuffle(seed=42).select([i for i in list(range(1000))])  # 限制为1000个样本\n",
    "\n",
    "# 加载BERT模型\n",
    "model = BertForSequenceClassification.from_pretrained(\"bert-base-uncased\", num_labels=2)\n",
    "\n",
    "# 设置训练参数\n",
    "training_args = TrainingArguments(\n",
    "    output_dir='./results',  # 输出目录\n",
    "    num_train_epochs=3,  # 训练epoch数\n",
    "    per_device_train_batch_size=8,  # 每个设备的batch size\n",
    "    per_device_eval_batch_size=8,  # 评估时的batch size\n",
    "    warmup_steps=500,  # 热身步数\n",
    "    weight_decay=0.01,  # 权重衰减\n",
    "    logging_dir='./logs',  # 日志目录\n",
    "    logging_steps=10,\n",
    "    evaluation_strategy=\"epoch\"  # 每个epoch后评估\n",
    ")\n",
    "\n",
    "# 创建Trainer实例\n",
    "trainer = Trainer(\n",
    "    model=model,\n",
    "    args=training_args,\n",
    "    train_dataset=train_dataset,\n",
    "    eval_dataset=test_dataset\n",
    ")\n",
    "\n",
    "# 训练模型\n",
    "trainer.train()\n",
    "\n",
    "# 评估模型\n",
    "eval_result = trainer.evaluate()\n",
    "print(f\"评估结果: {eval_result}\")\n"
   ],
   "metadata": {
    "collapsed": false
   }
  }
 ],
 "metadata": {
  "kernelspec": {
   "name": "python3",
   "language": "python",
   "display_name": "Python 3 (ipykernel)"
  }
 },
 "nbformat": 4,
 "nbformat_minor": 2
}
