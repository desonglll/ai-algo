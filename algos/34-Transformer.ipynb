{
 "cells": [
  {
   "cell_type": "code",
   "execution_count": null,
   "outputs": [
    {
     "data": {
      "text/plain": "tokenizer_config.json:   0%|          | 0.00/48.0 [00:00<?, ?B/s]",
      "application/vnd.jupyter.widget-view+json": {
       "version_major": 2,
       "version_minor": 0,
       "model_id": "89fc695bcf2b4808bf5ee5b51f4be15e"
      }
     },
     "metadata": {},
     "output_type": "display_data"
    },
    {
     "data": {
      "text/plain": "config.json:   0%|          | 0.00/483 [00:00<?, ?B/s]",
      "application/vnd.jupyter.widget-view+json": {
       "version_major": 2,
       "version_minor": 0,
       "model_id": "8b176239499145aebd450858d4513b18"
      }
     },
     "metadata": {},
     "output_type": "display_data"
    },
    {
     "data": {
      "text/plain": "vocab.txt:   0%|          | 0.00/232k [00:00<?, ?B/s]",
      "application/vnd.jupyter.widget-view+json": {
       "version_major": 2,
       "version_minor": 0,
       "model_id": "c42e242dc3584a42983242c38b2e6ae6"
      }
     },
     "metadata": {},
     "output_type": "display_data"
    },
    {
     "data": {
      "text/plain": "tokenizer.json:   0%|          | 0.00/466k [00:00<?, ?B/s]",
      "application/vnd.jupyter.widget-view+json": {
       "version_major": 2,
       "version_minor": 0,
       "model_id": "1421172829794493ae587988787718e5"
      }
     },
     "metadata": {},
     "output_type": "display_data"
    },
    {
     "data": {
      "text/plain": "model.safetensors:   0%|          | 0.00/268M [00:00<?, ?B/s]",
      "application/vnd.jupyter.widget-view+json": {
       "version_major": 2,
       "version_minor": 0,
       "model_id": "ac9b78d46d2a4d8f81674ac0f59218cc"
      }
     },
     "metadata": {},
     "output_type": "display_data"
    }
   ],
   "source": [
    "import numpy as np\n",
    "import torch\n",
    "from transformers import Trainer, TrainingArguments\n",
    "from transformers import AutoTokenizer, AutoModelForSequenceClassification\n",
    "from datasets import load_dataset\n",
    "\n",
    "# 加载数据集\n",
    "dataset = load_dataset(\"imdb\")\n",
    "\n",
    "# 加载预训练的Transformer模型和Tokenizer\n",
    "model_name = \"distilbert-base-uncased\"  # 你可以选择其他Transformer模型\n",
    "tokenizer = AutoTokenizer.from_pretrained(model_name)\n",
    "model = AutoModelForSequenceClassification.from_pretrained(model_name, num_labels=2)\n",
    "\n",
    "\n",
    "# 对数据进行编码\n",
    "def encode_dataset(datasets):\n",
    "    return datasets.map(lambda x: tokenizer(x['text'], padding='max_length', truncation=True, max_length=512),\n",
    "                        batched=True)\n",
    "\n",
    "\n",
    "# 编码训练和测试集\n",
    "encoded_dataset = encode_dataset(dataset)\n",
    "\n",
    "# 选择训练和验证集\n",
    "train_dataset = encoded_dataset['train'].shuffle(seed=42).select([i for i in range(1000)])  # 限制为1000个样本\n",
    "test_dataset = encoded_dataset['test'].shuffle(seed=42).select([i for i in range(1000)])  # 限制为1000个样本\n",
    "\n",
    "# 设置训练参数\n",
    "training_args = TrainingArguments(\n",
    "    output_dir='./results',  # 输出目录\n",
    "    num_train_epochs=3,  # 训练epoch数\n",
    "    per_device_train_batch_size=8,  # 每个设备的batch size\n",
    "    per_device_eval_batch_size=8,  # 评估时的batch size\n",
    "    warmup_steps=500,  # 热身步数\n",
    "    weight_decay=0.01,  # 权重衰减\n",
    "    logging_dir='./logs',  # 日志目录\n",
    "    logging_steps=10,\n",
    "    evaluation_strategy=\"epoch\"  # 每个epoch后评估\n",
    ")\n",
    "\n",
    "# 创建Trainer实例\n",
    "trainer = Trainer(\n",
    "    model=model,\n",
    "    args=training_args,\n",
    "    train_dataset=train_dataset,\n",
    "    eval_dataset=test_dataset\n",
    ")\n",
    "\n",
    "# 训练模型\n",
    "trainer.train()\n",
    "\n",
    "# 评估模型\n",
    "eval_result = trainer.evaluate()\n",
    "print(f\"评估结果: {eval_result}\")\n"
   ],
   "metadata": {
    "collapsed": false,
    "is_executing": true,
    "ExecuteTime": {
     "start_time": "2024-10-14T14:51:55.167646Z"
    }
   }
  }
 ],
 "metadata": {
  "kernelspec": {
   "name": "python3",
   "language": "python",
   "display_name": "Python 3 (ipykernel)"
  }
 },
 "nbformat": 4,
 "nbformat_minor": 2
}
