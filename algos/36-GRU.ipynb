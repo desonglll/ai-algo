{
 "cells": [
  {
   "cell_type": "code",
   "execution_count": 1,
   "outputs": [
    {
     "name": "stdout",
     "output_type": "stream",
     "text": [
      "Epoch 1/5\n"
     ]
    },
    {
     "name": "stderr",
     "output_type": "stream",
     "text": [
      "/Users/mikeshinoda/Library/Caches/pypoetry/virtualenvs/ai-algo-ozOH1ZQc-py3.12/lib/python3.12/site-packages/keras/src/layers/core/embedding.py:90: UserWarning: Argument `input_length` is deprecated. Just remove it.\n",
      "  warnings.warn(\n"
     ]
    },
    {
     "name": "stdout",
     "output_type": "stream",
     "text": [
      "\u001B[1m625/625\u001B[0m \u001B[32m━━━━━━━━━━━━━━━━━━━━\u001B[0m\u001B[37m\u001B[0m \u001B[1m35s\u001B[0m 55ms/step - accuracy: 0.6978 - loss: 0.5399 - val_accuracy: 0.8388 - val_loss: 0.3779\n",
      "Epoch 2/5\n",
      "\u001B[1m625/625\u001B[0m \u001B[32m━━━━━━━━━━━━━━━━━━━━\u001B[0m\u001B[37m\u001B[0m \u001B[1m37s\u001B[0m 58ms/step - accuracy: 0.8942 - loss: 0.2663 - val_accuracy: 0.8792 - val_loss: 0.3033\n",
      "Epoch 3/5\n",
      "\u001B[1m625/625\u001B[0m \u001B[32m━━━━━━━━━━━━━━━━━━━━\u001B[0m\u001B[37m\u001B[0m \u001B[1m42s\u001B[0m 67ms/step - accuracy: 0.9389 - loss: 0.1650 - val_accuracy: 0.8736 - val_loss: 0.3306\n",
      "Epoch 4/5\n",
      "\u001B[1m625/625\u001B[0m \u001B[32m━━━━━━━━━━━━━━━━━━━━\u001B[0m\u001B[37m\u001B[0m \u001B[1m56s\u001B[0m 89ms/step - accuracy: 0.9638 - loss: 0.1094 - val_accuracy: 0.8688 - val_loss: 0.3591\n",
      "Epoch 5/5\n",
      "\u001B[1m625/625\u001B[0m \u001B[32m━━━━━━━━━━━━━━━━━━━━\u001B[0m\u001B[37m\u001B[0m \u001B[1m62s\u001B[0m 100ms/step - accuracy: 0.9794 - loss: 0.0625 - val_accuracy: 0.8578 - val_loss: 0.3981\n",
      "\u001B[1m782/782\u001B[0m \u001B[32m━━━━━━━━━━━━━━━━━━━━\u001B[0m\u001B[37m\u001B[0m \u001B[1m12s\u001B[0m 16ms/step - accuracy: 0.8474 - loss: 0.4343\n",
      "测试损失: 0.4300, 测试准确率: 0.8488\n",
      "\u001B[1m1/1\u001B[0m \u001B[32m━━━━━━━━━━━━━━━━━━━━\u001B[0m\u001B[37m\u001B[0m \u001B[1m0s\u001B[0m 79ms/step\n",
      "预测结果: 1.0000\n"
     ]
    }
   ],
   "source": [
    "import numpy as np\n",
    "import tensorflow as tf\n",
    "from tensorflow import keras\n",
    "from tensorflow.keras import layers\n",
    "from tensorflow.keras.preprocessing.sequence import pad_sequences\n",
    "from tensorflow.keras.datasets import imdb\n",
    "\n",
    "# 设置参数\n",
    "max_features = 10000  # 词汇表大小\n",
    "max_len = 200  # 最大序列长度\n",
    "embedding_dim = 128  # 嵌入维度\n",
    "gru_units = 64  # GRU单元数\n",
    "\n",
    "# 加载IMDB数据集\n",
    "(x_train, y_train), (x_test, y_test) = imdb.load_data(num_words=max_features)\n",
    "\n",
    "# 填充序列\n",
    "x_train = pad_sequences(x_train, maxlen=max_len)\n",
    "x_test = pad_sequences(x_test, maxlen=max_len)\n",
    "\n",
    "# 构建GRU模型\n",
    "model = keras.Sequential([\n",
    "    layers.Embedding(max_features, embedding_dim, input_length=max_len),\n",
    "    layers.GRU(gru_units, return_sequences=False),\n",
    "    layers.Dense(1, activation='sigmoid')  # 二分类任务，使用sigmoid激活函数\n",
    "])\n",
    "\n",
    "# 编译模型\n",
    "model.compile(optimizer='adam', loss='binary_crossentropy', metrics=['accuracy'])\n",
    "\n",
    "# 训练模型\n",
    "model.fit(x_train, y_train, epochs=5, batch_size=32, validation_split=0.2)\n",
    "\n",
    "# 评估模型\n",
    "loss, accuracy = model.evaluate(x_test, y_test)\n",
    "print(f\"测试损失: {loss:.4f}, 测试准确率: {accuracy:.4f}\")\n",
    "\n",
    "# 示例：使用模型进行预测\n",
    "sample_text = [\"This movie was fantastic! I loved it.\"]\n",
    "sample_sequence = imdb.get_word_index()\n",
    "sample_sequence = [[sample_sequence.get(word, 0) for word in text.split()] for text in sample_text]\n",
    "sample_sequence = pad_sequences(sample_sequence, maxlen=max_len)\n",
    "\n",
    "predictions = model.predict(sample_sequence)\n",
    "print(f\"预测结果: {predictions[0][0]:.4f}\")  # 输出预测的概率\n"
   ],
   "metadata": {
    "collapsed": false,
    "ExecuteTime": {
     "end_time": "2024-10-15T02:39:42.300200Z",
     "start_time": "2024-10-15T02:35:33.164199Z"
    }
   }
  }
 ],
 "metadata": {
  "kernelspec": {
   "name": "python3",
   "language": "python",
   "display_name": "Python 3 (ipykernel)"
  }
 },
 "nbformat": 4,
 "nbformat_minor": 2
}
