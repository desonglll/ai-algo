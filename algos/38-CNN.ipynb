{
 "cells": [
  {
   "cell_type": "code",
   "execution_count": 1,
   "outputs": [
    {
     "name": "stdout",
     "output_type": "stream",
     "text": [
      "Epoch 1/5\n"
     ]
    },
    {
     "name": "stderr",
     "output_type": "stream",
     "text": [
      "/Users/mikeshinoda/Library/Caches/pypoetry/virtualenvs/ai-algo-ozOH1ZQc-py3.12/lib/python3.12/site-packages/keras/src/layers/core/embedding.py:90: UserWarning: Argument `input_length` is deprecated. Just remove it.\n",
      "  warnings.warn(\n"
     ]
    },
    {
     "name": "stdout",
     "output_type": "stream",
     "text": [
      "\u001B[1m625/625\u001B[0m \u001B[32m━━━━━━━━━━━━━━━━━━━━\u001B[0m\u001B[37m\u001B[0m \u001B[1m21s\u001B[0m 32ms/step - accuracy: 0.6790 - loss: 0.5471 - val_accuracy: 0.8612 - val_loss: 0.3240\n",
      "Epoch 2/5\n",
      "\u001B[1m625/625\u001B[0m \u001B[32m━━━━━━━━━━━━━━━━━━━━\u001B[0m\u001B[37m\u001B[0m \u001B[1m20s\u001B[0m 32ms/step - accuracy: 0.9173 - loss: 0.2120 - val_accuracy: 0.8768 - val_loss: 0.2914\n",
      "Epoch 3/5\n",
      "\u001B[1m625/625\u001B[0m \u001B[32m━━━━━━━━━━━━━━━━━━━━\u001B[0m\u001B[37m\u001B[0m \u001B[1m18s\u001B[0m 29ms/step - accuracy: 0.9684 - loss: 0.0956 - val_accuracy: 0.8744 - val_loss: 0.3618\n",
      "Epoch 4/5\n",
      "\u001B[1m625/625\u001B[0m \u001B[32m━━━━━━━━━━━━━━━━━━━━\u001B[0m\u001B[37m\u001B[0m \u001B[1m18s\u001B[0m 29ms/step - accuracy: 0.9912 - loss: 0.0308 - val_accuracy: 0.8692 - val_loss: 0.4936\n",
      "Epoch 5/5\n",
      "\u001B[1m625/625\u001B[0m \u001B[32m━━━━━━━━━━━━━━━━━━━━\u001B[0m\u001B[37m\u001B[0m \u001B[1m17s\u001B[0m 27ms/step - accuracy: 0.9978 - loss: 0.0108 - val_accuracy: 0.8658 - val_loss: 0.6396\n",
      "\u001B[1m782/782\u001B[0m \u001B[32m━━━━━━━━━━━━━━━━━━━━\u001B[0m\u001B[37m\u001B[0m \u001B[1m5s\u001B[0m 7ms/step - accuracy: 0.8537 - loss: 0.7046\n",
      "测试损失: 0.6933, 测试准确率: 0.8551\n",
      "\u001B[1m1/1\u001B[0m \u001B[32m━━━━━━━━━━━━━━━━━━━━\u001B[0m\u001B[37m\u001B[0m \u001B[1m0s\u001B[0m 42ms/step\n",
      "预测结果: 0.7605\n"
     ]
    }
   ],
   "source": [
    "import numpy as np\n",
    "import tensorflow as tf\n",
    "from tensorflow import keras\n",
    "from tensorflow.keras import layers\n",
    "from tensorflow.keras.preprocessing.sequence import pad_sequences\n",
    "from tensorflow.keras.datasets import imdb\n",
    "\n",
    "# 设置参数\n",
    "max_features = 10000  # 词汇表大小\n",
    "max_len = 200  # 最大序列长度\n",
    "embedding_dim = 128  # 嵌入维度\n",
    "filters = 64  # 卷积核数量\n",
    "kernel_size = 5  # 卷积核大小\n",
    "\n",
    "# 加载IMDB数据集\n",
    "(x_train, y_train), (x_test, y_test) = imdb.load_data(num_words=max_features)\n",
    "\n",
    "# 填充序列\n",
    "x_train = pad_sequences(x_train, maxlen=max_len)\n",
    "x_test = pad_sequences(x_test, maxlen=max_len)\n",
    "\n",
    "# 构建CNN模型\n",
    "model = keras.Sequential([\n",
    "    layers.Embedding(max_features, embedding_dim, input_length=max_len),\n",
    "    layers.Conv1D(filters, kernel_size, activation='relu'),\n",
    "    layers.MaxPooling1D(pool_size=2),\n",
    "    layers.Conv1D(filters * 2, kernel_size, activation='relu'),\n",
    "    layers.MaxPooling1D(pool_size=2),\n",
    "    layers.GlobalMaxPooling1D(),\n",
    "    layers.Dense(1, activation='sigmoid')  # 二分类任务，使用sigmoid激活函数\n",
    "])\n",
    "\n",
    "# 编译模型\n",
    "model.compile(optimizer='adam', loss='binary_crossentropy', metrics=['accuracy'])\n",
    "\n",
    "# 训练模型\n",
    "model.fit(x_train, y_train, epochs=5, batch_size=32, validation_split=0.2)\n",
    "\n",
    "# 评估模型\n",
    "loss, accuracy = model.evaluate(x_test, y_test)\n",
    "print(f\"测试损失: {loss:.4f}, 测试准确率: {accuracy:.4f}\")\n",
    "\n",
    "# 示例：使用模型进行预测\n",
    "sample_text = [\"This movie was fantastic! I loved it.\"]\n",
    "sample_sequence = imdb.get_word_index()\n",
    "sample_sequence = [[sample_sequence.get(word, 0) for word in text.split()] for text in sample_text]\n",
    "sample_sequence = pad_sequences(sample_sequence, maxlen=max_len)\n",
    "\n",
    "predictions = model.predict(sample_sequence)\n",
    "print(f\"预测结果: {predictions[0][0]:.4f}\")  # 输出预测的概率\n"
   ],
   "metadata": {
    "collapsed": false,
    "ExecuteTime": {
     "end_time": "2024-10-15T02:39:34.794753Z",
     "start_time": "2024-10-15T02:37:48.584224Z"
    }
   }
  }
 ],
 "metadata": {
  "kernelspec": {
   "name": "python3",
   "language": "python",
   "display_name": "Python 3 (ipykernel)"
  }
 },
 "nbformat": 4,
 "nbformat_minor": 2
}
